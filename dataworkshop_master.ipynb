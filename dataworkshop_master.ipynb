{
  "nbformat": 4,
  "nbformat_minor": 0,
  "metadata": {
    "colab": {
      "name": "dataworkshop_master.ipynb",
      "version": "0.3.2",
      "provenance": []
    },
    "kernelspec": {
      "name": "python3",
      "display_name": "Python 3"
    }
  },
  "cells": [
    {
      "metadata": {
        "id": "OO7XgZdieFjA",
        "colab_type": "text"
      },
      "cell_type": "markdown",
      "source": [
        "# Data Science Workshop!"
      ]
    },
    {
      "metadata": {
        "id": "O5BR0wj8eLEV",
        "colab_type": "text"
      },
      "cell_type": "markdown",
      "source": [
        "First, we'll download the dataset. This is data from the [TMDb 5000 movies dataset](https://www.kaggle.com/tmdb/tmdb-movie-metadata#tmdb_5000_movies.csv).  \n"
      ]
    },
    {
      "metadata": {
        "id": "-OGbB4PleKye",
        "colab_type": "code",
        "colab": {
          "base_uri": "https://localhost:8080/",
          "height": 51
        },
        "outputId": "683dceec-7974-46cc-d77c-9564dafa0cc5"
      },
      "cell_type": "code",
      "source": [
        "!wget https://raw.githubusercontent.com/ayshaC/Data-Science-Workshop/master/tmdb_5000_movies.csv"
      ],
      "execution_count": 1,
      "outputs": [
        {
          "output_type": "stream",
          "text": [
            "\n",
            "Redirecting output to ‘wget-log’.\n"
          ],
          "name": "stdout"
        }
      ]
    },
    {
      "metadata": {
        "id": "t9KOJgeIeg8m",
        "colab_type": "text"
      },
      "cell_type": "markdown",
      "source": [
        "### Setup"
      ]
    },
    {
      "metadata": {
        "id": "DyGpQwPBEG1S",
        "colab_type": "text"
      },
      "cell_type": "markdown",
      "source": [
        "We want to import some useful python libraries.\n",
        "\n",
        "Numpy is a library that adds a lot more math / linear algebra capabilities to python, such as arrays.\n",
        "\n",
        "Pandas is a library that provides tools for data strucures and data analysis."
      ]
    },
    {
      "metadata": {
        "id": "ss3cZkPEEHzx",
        "colab_type": "code",
        "colab": {}
      },
      "cell_type": "code",
      "source": [
        "import numpy as np\n",
        "import pandas as pd\n",
        "import matplotlib.pyplot as plt\n",
        "\n",
        "import datetime"
      ],
      "execution_count": 0,
      "outputs": []
    },
    {
      "metadata": {
        "id": "zt6i_nN0EopL",
        "colab_type": "code",
        "colab": {}
      },
      "cell_type": "code",
      "source": [
        "df = pd.read_csv('tmdb_5000_movies.csv')"
      ],
      "execution_count": 0,
      "outputs": []
    },
    {
      "metadata": {
        "id": "DL6oMNkh_-7X",
        "colab_type": "text"
      },
      "cell_type": "markdown",
      "source": [
        "### Data Overview"
      ]
    },
    {
      "metadata": {
        "id": "-6rzhvxWEo_t",
        "colab_type": "code",
        "colab": {
          "base_uri": "https://localhost:8080/",
          "height": 649
        },
        "outputId": "ce2ceb7d-b132-4ad1-cb96-f1cf2d33ce37"
      },
      "cell_type": "code",
      "source": [
        "# Let's take a look at the data! df.head() shows us the first few rows in the table. Take a look at all the columns. \n",
        "df.head()"
      ],
      "execution_count": 4,
      "outputs": [
        {
          "output_type": "execute_result",
          "data": {
            "text/html": [
              "<div>\n",
              "<style scoped>\n",
              "    .dataframe tbody tr th:only-of-type {\n",
              "        vertical-align: middle;\n",
              "    }\n",
              "\n",
              "    .dataframe tbody tr th {\n",
              "        vertical-align: top;\n",
              "    }\n",
              "\n",
              "    .dataframe thead th {\n",
              "        text-align: right;\n",
              "    }\n",
              "</style>\n",
              "<table border=\"1\" class=\"dataframe\">\n",
              "  <thead>\n",
              "    <tr style=\"text-align: right;\">\n",
              "      <th></th>\n",
              "      <th>budget</th>\n",
              "      <th>genres</th>\n",
              "      <th>homepage</th>\n",
              "      <th>id</th>\n",
              "      <th>keywords</th>\n",
              "      <th>original_language</th>\n",
              "      <th>original_title</th>\n",
              "      <th>overview</th>\n",
              "      <th>popularity</th>\n",
              "      <th>production_companies</th>\n",
              "      <th>production_countries</th>\n",
              "      <th>release_date</th>\n",
              "      <th>revenue</th>\n",
              "      <th>runtime</th>\n",
              "      <th>spoken_languages</th>\n",
              "      <th>status</th>\n",
              "      <th>tagline</th>\n",
              "      <th>title</th>\n",
              "      <th>vote_average</th>\n",
              "      <th>vote_count</th>\n",
              "    </tr>\n",
              "  </thead>\n",
              "  <tbody>\n",
              "    <tr>\n",
              "      <th>0</th>\n",
              "      <td>237000000</td>\n",
              "      <td>[{\"id\": 28, \"name\": \"Action\"}, {\"id\": 12, \"nam...</td>\n",
              "      <td>http://www.avatarmovie.com/</td>\n",
              "      <td>19995</td>\n",
              "      <td>[{\"id\": 1463, \"name\": \"culture clash\"}, {\"id\":...</td>\n",
              "      <td>en</td>\n",
              "      <td>Avatar</td>\n",
              "      <td>In the 22nd century, a paraplegic Marine is di...</td>\n",
              "      <td>150.437577</td>\n",
              "      <td>[{\"name\": \"Ingenious Film Partners\", \"id\": 289...</td>\n",
              "      <td>[{\"iso_3166_1\": \"US\", \"name\": \"United States o...</td>\n",
              "      <td>2009-12-10</td>\n",
              "      <td>2787965087</td>\n",
              "      <td>162.0</td>\n",
              "      <td>[{\"iso_639_1\": \"en\", \"name\": \"English\"}, {\"iso...</td>\n",
              "      <td>Released</td>\n",
              "      <td>Enter the World of Pandora.</td>\n",
              "      <td>Avatar</td>\n",
              "      <td>7.2</td>\n",
              "      <td>11800</td>\n",
              "    </tr>\n",
              "    <tr>\n",
              "      <th>1</th>\n",
              "      <td>300000000</td>\n",
              "      <td>[{\"id\": 12, \"name\": \"Adventure\"}, {\"id\": 14, \"...</td>\n",
              "      <td>http://disney.go.com/disneypictures/pirates/</td>\n",
              "      <td>285</td>\n",
              "      <td>[{\"id\": 270, \"name\": \"ocean\"}, {\"id\": 726, \"na...</td>\n",
              "      <td>en</td>\n",
              "      <td>Pirates of the Caribbean: At World's End</td>\n",
              "      <td>Captain Barbossa, long believed to be dead, ha...</td>\n",
              "      <td>139.082615</td>\n",
              "      <td>[{\"name\": \"Walt Disney Pictures\", \"id\": 2}, {\"...</td>\n",
              "      <td>[{\"iso_3166_1\": \"US\", \"name\": \"United States o...</td>\n",
              "      <td>2007-05-19</td>\n",
              "      <td>961000000</td>\n",
              "      <td>169.0</td>\n",
              "      <td>[{\"iso_639_1\": \"en\", \"name\": \"English\"}]</td>\n",
              "      <td>Released</td>\n",
              "      <td>At the end of the world, the adventure begins.</td>\n",
              "      <td>Pirates of the Caribbean: At World's End</td>\n",
              "      <td>6.9</td>\n",
              "      <td>4500</td>\n",
              "    </tr>\n",
              "    <tr>\n",
              "      <th>2</th>\n",
              "      <td>245000000</td>\n",
              "      <td>[{\"id\": 28, \"name\": \"Action\"}, {\"id\": 12, \"nam...</td>\n",
              "      <td>http://www.sonypictures.com/movies/spectre/</td>\n",
              "      <td>206647</td>\n",
              "      <td>[{\"id\": 470, \"name\": \"spy\"}, {\"id\": 818, \"name...</td>\n",
              "      <td>en</td>\n",
              "      <td>Spectre</td>\n",
              "      <td>A cryptic message from Bond’s past sends him o...</td>\n",
              "      <td>107.376788</td>\n",
              "      <td>[{\"name\": \"Columbia Pictures\", \"id\": 5}, {\"nam...</td>\n",
              "      <td>[{\"iso_3166_1\": \"GB\", \"name\": \"United Kingdom\"...</td>\n",
              "      <td>2015-10-26</td>\n",
              "      <td>880674609</td>\n",
              "      <td>148.0</td>\n",
              "      <td>[{\"iso_639_1\": \"fr\", \"name\": \"Fran\\u00e7ais\"},...</td>\n",
              "      <td>Released</td>\n",
              "      <td>A Plan No One Escapes</td>\n",
              "      <td>Spectre</td>\n",
              "      <td>6.3</td>\n",
              "      <td>4466</td>\n",
              "    </tr>\n",
              "    <tr>\n",
              "      <th>3</th>\n",
              "      <td>250000000</td>\n",
              "      <td>[{\"id\": 28, \"name\": \"Action\"}, {\"id\": 80, \"nam...</td>\n",
              "      <td>http://www.thedarkknightrises.com/</td>\n",
              "      <td>49026</td>\n",
              "      <td>[{\"id\": 849, \"name\": \"dc comics\"}, {\"id\": 853,...</td>\n",
              "      <td>en</td>\n",
              "      <td>The Dark Knight Rises</td>\n",
              "      <td>Following the death of District Attorney Harve...</td>\n",
              "      <td>112.312950</td>\n",
              "      <td>[{\"name\": \"Legendary Pictures\", \"id\": 923}, {\"...</td>\n",
              "      <td>[{\"iso_3166_1\": \"US\", \"name\": \"United States o...</td>\n",
              "      <td>2012-07-16</td>\n",
              "      <td>1084939099</td>\n",
              "      <td>165.0</td>\n",
              "      <td>[{\"iso_639_1\": \"en\", \"name\": \"English\"}]</td>\n",
              "      <td>Released</td>\n",
              "      <td>The Legend Ends</td>\n",
              "      <td>The Dark Knight Rises</td>\n",
              "      <td>7.6</td>\n",
              "      <td>9106</td>\n",
              "    </tr>\n",
              "    <tr>\n",
              "      <th>4</th>\n",
              "      <td>260000000</td>\n",
              "      <td>[{\"id\": 28, \"name\": \"Action\"}, {\"id\": 12, \"nam...</td>\n",
              "      <td>http://movies.disney.com/john-carter</td>\n",
              "      <td>49529</td>\n",
              "      <td>[{\"id\": 818, \"name\": \"based on novel\"}, {\"id\":...</td>\n",
              "      <td>en</td>\n",
              "      <td>John Carter</td>\n",
              "      <td>John Carter is a war-weary, former military ca...</td>\n",
              "      <td>43.926995</td>\n",
              "      <td>[{\"name\": \"Walt Disney Pictures\", \"id\": 2}]</td>\n",
              "      <td>[{\"iso_3166_1\": \"US\", \"name\": \"United States o...</td>\n",
              "      <td>2012-03-07</td>\n",
              "      <td>284139100</td>\n",
              "      <td>132.0</td>\n",
              "      <td>[{\"iso_639_1\": \"en\", \"name\": \"English\"}]</td>\n",
              "      <td>Released</td>\n",
              "      <td>Lost in our world, found in another.</td>\n",
              "      <td>John Carter</td>\n",
              "      <td>6.1</td>\n",
              "      <td>2124</td>\n",
              "    </tr>\n",
              "  </tbody>\n",
              "</table>\n",
              "</div>"
            ],
            "text/plain": [
              "      budget                                             genres  \\\n",
              "0  237000000  [{\"id\": 28, \"name\": \"Action\"}, {\"id\": 12, \"nam...   \n",
              "1  300000000  [{\"id\": 12, \"name\": \"Adventure\"}, {\"id\": 14, \"...   \n",
              "2  245000000  [{\"id\": 28, \"name\": \"Action\"}, {\"id\": 12, \"nam...   \n",
              "3  250000000  [{\"id\": 28, \"name\": \"Action\"}, {\"id\": 80, \"nam...   \n",
              "4  260000000  [{\"id\": 28, \"name\": \"Action\"}, {\"id\": 12, \"nam...   \n",
              "\n",
              "                                       homepage      id  \\\n",
              "0                   http://www.avatarmovie.com/   19995   \n",
              "1  http://disney.go.com/disneypictures/pirates/     285   \n",
              "2   http://www.sonypictures.com/movies/spectre/  206647   \n",
              "3            http://www.thedarkknightrises.com/   49026   \n",
              "4          http://movies.disney.com/john-carter   49529   \n",
              "\n",
              "                                            keywords original_language  \\\n",
              "0  [{\"id\": 1463, \"name\": \"culture clash\"}, {\"id\":...                en   \n",
              "1  [{\"id\": 270, \"name\": \"ocean\"}, {\"id\": 726, \"na...                en   \n",
              "2  [{\"id\": 470, \"name\": \"spy\"}, {\"id\": 818, \"name...                en   \n",
              "3  [{\"id\": 849, \"name\": \"dc comics\"}, {\"id\": 853,...                en   \n",
              "4  [{\"id\": 818, \"name\": \"based on novel\"}, {\"id\":...                en   \n",
              "\n",
              "                             original_title  \\\n",
              "0                                    Avatar   \n",
              "1  Pirates of the Caribbean: At World's End   \n",
              "2                                   Spectre   \n",
              "3                     The Dark Knight Rises   \n",
              "4                               John Carter   \n",
              "\n",
              "                                            overview  popularity  \\\n",
              "0  In the 22nd century, a paraplegic Marine is di...  150.437577   \n",
              "1  Captain Barbossa, long believed to be dead, ha...  139.082615   \n",
              "2  A cryptic message from Bond’s past sends him o...  107.376788   \n",
              "3  Following the death of District Attorney Harve...  112.312950   \n",
              "4  John Carter is a war-weary, former military ca...   43.926995   \n",
              "\n",
              "                                production_companies  \\\n",
              "0  [{\"name\": \"Ingenious Film Partners\", \"id\": 289...   \n",
              "1  [{\"name\": \"Walt Disney Pictures\", \"id\": 2}, {\"...   \n",
              "2  [{\"name\": \"Columbia Pictures\", \"id\": 5}, {\"nam...   \n",
              "3  [{\"name\": \"Legendary Pictures\", \"id\": 923}, {\"...   \n",
              "4        [{\"name\": \"Walt Disney Pictures\", \"id\": 2}]   \n",
              "\n",
              "                                production_countries release_date     revenue  \\\n",
              "0  [{\"iso_3166_1\": \"US\", \"name\": \"United States o...   2009-12-10  2787965087   \n",
              "1  [{\"iso_3166_1\": \"US\", \"name\": \"United States o...   2007-05-19   961000000   \n",
              "2  [{\"iso_3166_1\": \"GB\", \"name\": \"United Kingdom\"...   2015-10-26   880674609   \n",
              "3  [{\"iso_3166_1\": \"US\", \"name\": \"United States o...   2012-07-16  1084939099   \n",
              "4  [{\"iso_3166_1\": \"US\", \"name\": \"United States o...   2012-03-07   284139100   \n",
              "\n",
              "   runtime                                   spoken_languages    status  \\\n",
              "0    162.0  [{\"iso_639_1\": \"en\", \"name\": \"English\"}, {\"iso...  Released   \n",
              "1    169.0           [{\"iso_639_1\": \"en\", \"name\": \"English\"}]  Released   \n",
              "2    148.0  [{\"iso_639_1\": \"fr\", \"name\": \"Fran\\u00e7ais\"},...  Released   \n",
              "3    165.0           [{\"iso_639_1\": \"en\", \"name\": \"English\"}]  Released   \n",
              "4    132.0           [{\"iso_639_1\": \"en\", \"name\": \"English\"}]  Released   \n",
              "\n",
              "                                          tagline  \\\n",
              "0                     Enter the World of Pandora.   \n",
              "1  At the end of the world, the adventure begins.   \n",
              "2                           A Plan No One Escapes   \n",
              "3                                 The Legend Ends   \n",
              "4            Lost in our world, found in another.   \n",
              "\n",
              "                                      title  vote_average  vote_count  \n",
              "0                                    Avatar           7.2       11800  \n",
              "1  Pirates of the Caribbean: At World's End           6.9        4500  \n",
              "2                                   Spectre           6.3        4466  \n",
              "3                     The Dark Knight Rises           7.6        9106  \n",
              "4                               John Carter           6.1        2124  "
            ]
          },
          "metadata": {
            "tags": []
          },
          "execution_count": 4
        }
      ]
    },
    {
      "metadata": {
        "id": "9dL4ijQjEsLU",
        "colab_type": "code",
        "colab": {
          "base_uri": "https://localhost:8080/",
          "height": 34
        },
        "outputId": "1ab1f778-f573-4f84-a768-b5c872b0d422"
      },
      "cell_type": "code",
      "source": [
        "# So we know there should be exactly 5000 rows of data, but we can check with \"shape\". df.shape gives us (rows, columns) of the dataframe.\n",
        "\n",
        "df.shape"
      ],
      "execution_count": 5,
      "outputs": [
        {
          "output_type": "execute_result",
          "data": {
            "text/plain": [
              "(4803, 20)"
            ]
          },
          "metadata": {
            "tags": []
          },
          "execution_count": 5
        }
      ]
    },
    {
      "metadata": {
        "id": "D8TyBlEMFk-P",
        "colab_type": "code",
        "colab": {
          "base_uri": "https://localhost:8080/",
          "height": 297
        },
        "outputId": "0f091848-79b9-4bf5-b895-4bb50c89b4f1"
      },
      "cell_type": "code",
      "source": [
        "# We can see more statistical details about the numerical columns in the movie dataframe. \n",
        "\n",
        "df.describe()"
      ],
      "execution_count": 6,
      "outputs": [
        {
          "output_type": "execute_result",
          "data": {
            "text/html": [
              "<div>\n",
              "<style scoped>\n",
              "    .dataframe tbody tr th:only-of-type {\n",
              "        vertical-align: middle;\n",
              "    }\n",
              "\n",
              "    .dataframe tbody tr th {\n",
              "        vertical-align: top;\n",
              "    }\n",
              "\n",
              "    .dataframe thead th {\n",
              "        text-align: right;\n",
              "    }\n",
              "</style>\n",
              "<table border=\"1\" class=\"dataframe\">\n",
              "  <thead>\n",
              "    <tr style=\"text-align: right;\">\n",
              "      <th></th>\n",
              "      <th>budget</th>\n",
              "      <th>id</th>\n",
              "      <th>popularity</th>\n",
              "      <th>revenue</th>\n",
              "      <th>runtime</th>\n",
              "      <th>vote_average</th>\n",
              "      <th>vote_count</th>\n",
              "    </tr>\n",
              "  </thead>\n",
              "  <tbody>\n",
              "    <tr>\n",
              "      <th>count</th>\n",
              "      <td>4.803000e+03</td>\n",
              "      <td>4803.000000</td>\n",
              "      <td>4803.000000</td>\n",
              "      <td>4.803000e+03</td>\n",
              "      <td>4801.000000</td>\n",
              "      <td>4803.000000</td>\n",
              "      <td>4803.000000</td>\n",
              "    </tr>\n",
              "    <tr>\n",
              "      <th>mean</th>\n",
              "      <td>2.904504e+07</td>\n",
              "      <td>57165.484281</td>\n",
              "      <td>21.492301</td>\n",
              "      <td>8.226064e+07</td>\n",
              "      <td>106.875859</td>\n",
              "      <td>6.092172</td>\n",
              "      <td>690.217989</td>\n",
              "    </tr>\n",
              "    <tr>\n",
              "      <th>std</th>\n",
              "      <td>4.072239e+07</td>\n",
              "      <td>88694.614033</td>\n",
              "      <td>31.816650</td>\n",
              "      <td>1.628571e+08</td>\n",
              "      <td>22.611935</td>\n",
              "      <td>1.194612</td>\n",
              "      <td>1234.585891</td>\n",
              "    </tr>\n",
              "    <tr>\n",
              "      <th>min</th>\n",
              "      <td>0.000000e+00</td>\n",
              "      <td>5.000000</td>\n",
              "      <td>0.000000</td>\n",
              "      <td>0.000000e+00</td>\n",
              "      <td>0.000000</td>\n",
              "      <td>0.000000</td>\n",
              "      <td>0.000000</td>\n",
              "    </tr>\n",
              "    <tr>\n",
              "      <th>25%</th>\n",
              "      <td>7.900000e+05</td>\n",
              "      <td>9014.500000</td>\n",
              "      <td>4.668070</td>\n",
              "      <td>0.000000e+00</td>\n",
              "      <td>94.000000</td>\n",
              "      <td>5.600000</td>\n",
              "      <td>54.000000</td>\n",
              "    </tr>\n",
              "    <tr>\n",
              "      <th>50%</th>\n",
              "      <td>1.500000e+07</td>\n",
              "      <td>14629.000000</td>\n",
              "      <td>12.921594</td>\n",
              "      <td>1.917000e+07</td>\n",
              "      <td>103.000000</td>\n",
              "      <td>6.200000</td>\n",
              "      <td>235.000000</td>\n",
              "    </tr>\n",
              "    <tr>\n",
              "      <th>75%</th>\n",
              "      <td>4.000000e+07</td>\n",
              "      <td>58610.500000</td>\n",
              "      <td>28.313505</td>\n",
              "      <td>9.291719e+07</td>\n",
              "      <td>118.000000</td>\n",
              "      <td>6.800000</td>\n",
              "      <td>737.000000</td>\n",
              "    </tr>\n",
              "    <tr>\n",
              "      <th>max</th>\n",
              "      <td>3.800000e+08</td>\n",
              "      <td>459488.000000</td>\n",
              "      <td>875.581305</td>\n",
              "      <td>2.787965e+09</td>\n",
              "      <td>338.000000</td>\n",
              "      <td>10.000000</td>\n",
              "      <td>13752.000000</td>\n",
              "    </tr>\n",
              "  </tbody>\n",
              "</table>\n",
              "</div>"
            ],
            "text/plain": [
              "             budget             id   popularity       revenue      runtime  \\\n",
              "count  4.803000e+03    4803.000000  4803.000000  4.803000e+03  4801.000000   \n",
              "mean   2.904504e+07   57165.484281    21.492301  8.226064e+07   106.875859   \n",
              "std    4.072239e+07   88694.614033    31.816650  1.628571e+08    22.611935   \n",
              "min    0.000000e+00       5.000000     0.000000  0.000000e+00     0.000000   \n",
              "25%    7.900000e+05    9014.500000     4.668070  0.000000e+00    94.000000   \n",
              "50%    1.500000e+07   14629.000000    12.921594  1.917000e+07   103.000000   \n",
              "75%    4.000000e+07   58610.500000    28.313505  9.291719e+07   118.000000   \n",
              "max    3.800000e+08  459488.000000   875.581305  2.787965e+09   338.000000   \n",
              "\n",
              "       vote_average    vote_count  \n",
              "count   4803.000000   4803.000000  \n",
              "mean       6.092172    690.217989  \n",
              "std        1.194612   1234.585891  \n",
              "min        0.000000      0.000000  \n",
              "25%        5.600000     54.000000  \n",
              "50%        6.200000    235.000000  \n",
              "75%        6.800000    737.000000  \n",
              "max       10.000000  13752.000000  "
            ]
          },
          "metadata": {
            "tags": []
          },
          "execution_count": 6
        }
      ]
    },
    {
      "metadata": {
        "id": "lKTg5caZByR6",
        "colab_type": "text"
      },
      "cell_type": "markdown",
      "source": [
        "## Selecting Data"
      ]
    },
    {
      "metadata": {
        "id": "DM_D6pm0FnxX",
        "colab_type": "code",
        "colab": {
          "base_uri": "https://localhost:8080/",
          "height": 204
        },
        "outputId": "097312e3-681d-4f0f-a97c-691862bb9f45"
      },
      "cell_type": "code",
      "source": [
        "# The original table has a lot of columns, so let's just select a few we're interested in. \n",
        "\n",
        "df_reduced=df[['budget', 'homepage', 'original_language', 'title', 'popularity', 'release_date', 'revenue', 'runtime']]\n",
        "df_reduced.head()"
      ],
      "execution_count": 7,
      "outputs": [
        {
          "output_type": "execute_result",
          "data": {
            "text/html": [
              "<div>\n",
              "<style scoped>\n",
              "    .dataframe tbody tr th:only-of-type {\n",
              "        vertical-align: middle;\n",
              "    }\n",
              "\n",
              "    .dataframe tbody tr th {\n",
              "        vertical-align: top;\n",
              "    }\n",
              "\n",
              "    .dataframe thead th {\n",
              "        text-align: right;\n",
              "    }\n",
              "</style>\n",
              "<table border=\"1\" class=\"dataframe\">\n",
              "  <thead>\n",
              "    <tr style=\"text-align: right;\">\n",
              "      <th></th>\n",
              "      <th>budget</th>\n",
              "      <th>homepage</th>\n",
              "      <th>original_language</th>\n",
              "      <th>title</th>\n",
              "      <th>popularity</th>\n",
              "      <th>release_date</th>\n",
              "      <th>revenue</th>\n",
              "      <th>runtime</th>\n",
              "    </tr>\n",
              "  </thead>\n",
              "  <tbody>\n",
              "    <tr>\n",
              "      <th>0</th>\n",
              "      <td>237000000</td>\n",
              "      <td>http://www.avatarmovie.com/</td>\n",
              "      <td>en</td>\n",
              "      <td>Avatar</td>\n",
              "      <td>150.437577</td>\n",
              "      <td>2009-12-10</td>\n",
              "      <td>2787965087</td>\n",
              "      <td>162.0</td>\n",
              "    </tr>\n",
              "    <tr>\n",
              "      <th>1</th>\n",
              "      <td>300000000</td>\n",
              "      <td>http://disney.go.com/disneypictures/pirates/</td>\n",
              "      <td>en</td>\n",
              "      <td>Pirates of the Caribbean: At World's End</td>\n",
              "      <td>139.082615</td>\n",
              "      <td>2007-05-19</td>\n",
              "      <td>961000000</td>\n",
              "      <td>169.0</td>\n",
              "    </tr>\n",
              "    <tr>\n",
              "      <th>2</th>\n",
              "      <td>245000000</td>\n",
              "      <td>http://www.sonypictures.com/movies/spectre/</td>\n",
              "      <td>en</td>\n",
              "      <td>Spectre</td>\n",
              "      <td>107.376788</td>\n",
              "      <td>2015-10-26</td>\n",
              "      <td>880674609</td>\n",
              "      <td>148.0</td>\n",
              "    </tr>\n",
              "    <tr>\n",
              "      <th>3</th>\n",
              "      <td>250000000</td>\n",
              "      <td>http://www.thedarkknightrises.com/</td>\n",
              "      <td>en</td>\n",
              "      <td>The Dark Knight Rises</td>\n",
              "      <td>112.312950</td>\n",
              "      <td>2012-07-16</td>\n",
              "      <td>1084939099</td>\n",
              "      <td>165.0</td>\n",
              "    </tr>\n",
              "    <tr>\n",
              "      <th>4</th>\n",
              "      <td>260000000</td>\n",
              "      <td>http://movies.disney.com/john-carter</td>\n",
              "      <td>en</td>\n",
              "      <td>John Carter</td>\n",
              "      <td>43.926995</td>\n",
              "      <td>2012-03-07</td>\n",
              "      <td>284139100</td>\n",
              "      <td>132.0</td>\n",
              "    </tr>\n",
              "  </tbody>\n",
              "</table>\n",
              "</div>"
            ],
            "text/plain": [
              "      budget                                      homepage original_language  \\\n",
              "0  237000000                   http://www.avatarmovie.com/                en   \n",
              "1  300000000  http://disney.go.com/disneypictures/pirates/                en   \n",
              "2  245000000   http://www.sonypictures.com/movies/spectre/                en   \n",
              "3  250000000            http://www.thedarkknightrises.com/                en   \n",
              "4  260000000          http://movies.disney.com/john-carter                en   \n",
              "\n",
              "                                      title  popularity release_date  \\\n",
              "0                                    Avatar  150.437577   2009-12-10   \n",
              "1  Pirates of the Caribbean: At World's End  139.082615   2007-05-19   \n",
              "2                                   Spectre  107.376788   2015-10-26   \n",
              "3                     The Dark Knight Rises  112.312950   2012-07-16   \n",
              "4                               John Carter   43.926995   2012-03-07   \n",
              "\n",
              "      revenue  runtime  \n",
              "0  2787965087    162.0  \n",
              "1   961000000    169.0  \n",
              "2   880674609    148.0  \n",
              "3  1084939099    165.0  \n",
              "4   284139100    132.0  "
            ]
          },
          "metadata": {
            "tags": []
          },
          "execution_count": 7
        }
      ]
    },
    {
      "metadata": {
        "id": "5nmn2SP7Gk6m",
        "colab_type": "code",
        "colab": {
          "base_uri": "https://localhost:8080/",
          "height": 204
        },
        "outputId": "4f0351ba-8f6d-4634-a4d0-e1e80c29521d"
      },
      "cell_type": "code",
      "source": [
        "# We can also select rows with null values. Let's see how many don't have a homepage\n",
        "\n",
        "df_reduced[df['homepage'].isnull()].head()"
      ],
      "execution_count": 8,
      "outputs": [
        {
          "output_type": "execute_result",
          "data": {
            "text/html": [
              "<div>\n",
              "<style scoped>\n",
              "    .dataframe tbody tr th:only-of-type {\n",
              "        vertical-align: middle;\n",
              "    }\n",
              "\n",
              "    .dataframe tbody tr th {\n",
              "        vertical-align: top;\n",
              "    }\n",
              "\n",
              "    .dataframe thead th {\n",
              "        text-align: right;\n",
              "    }\n",
              "</style>\n",
              "<table border=\"1\" class=\"dataframe\">\n",
              "  <thead>\n",
              "    <tr style=\"text-align: right;\">\n",
              "      <th></th>\n",
              "      <th>budget</th>\n",
              "      <th>homepage</th>\n",
              "      <th>original_language</th>\n",
              "      <th>title</th>\n",
              "      <th>popularity</th>\n",
              "      <th>release_date</th>\n",
              "      <th>revenue</th>\n",
              "      <th>runtime</th>\n",
              "    </tr>\n",
              "  </thead>\n",
              "  <tbody>\n",
              "    <tr>\n",
              "      <th>15</th>\n",
              "      <td>225000000</td>\n",
              "      <td>NaN</td>\n",
              "      <td>en</td>\n",
              "      <td>The Chronicles of Narnia: Prince Caspian</td>\n",
              "      <td>53.978602</td>\n",
              "      <td>2008-05-15</td>\n",
              "      <td>419651413</td>\n",
              "      <td>150.0</td>\n",
              "    </tr>\n",
              "    <tr>\n",
              "      <th>24</th>\n",
              "      <td>207000000</td>\n",
              "      <td>NaN</td>\n",
              "      <td>en</td>\n",
              "      <td>King Kong</td>\n",
              "      <td>61.226010</td>\n",
              "      <td>2005-12-14</td>\n",
              "      <td>550000000</td>\n",
              "      <td>187.0</td>\n",
              "    </tr>\n",
              "    <tr>\n",
              "      <th>27</th>\n",
              "      <td>209000000</td>\n",
              "      <td>NaN</td>\n",
              "      <td>en</td>\n",
              "      <td>Battleship</td>\n",
              "      <td>64.928382</td>\n",
              "      <td>2012-04-11</td>\n",
              "      <td>303025485</td>\n",
              "      <td>131.0</td>\n",
              "    </tr>\n",
              "    <tr>\n",
              "      <th>33</th>\n",
              "      <td>210000000</td>\n",
              "      <td>NaN</td>\n",
              "      <td>en</td>\n",
              "      <td>X-Men: The Last Stand</td>\n",
              "      <td>3.857526</td>\n",
              "      <td>2006-05-24</td>\n",
              "      <td>459359555</td>\n",
              "      <td>104.0</td>\n",
              "    </tr>\n",
              "    <tr>\n",
              "      <th>34</th>\n",
              "      <td>200000000</td>\n",
              "      <td>NaN</td>\n",
              "      <td>en</td>\n",
              "      <td>Monsters University</td>\n",
              "      <td>89.186492</td>\n",
              "      <td>2013-06-20</td>\n",
              "      <td>743559607</td>\n",
              "      <td>104.0</td>\n",
              "    </tr>\n",
              "  </tbody>\n",
              "</table>\n",
              "</div>"
            ],
            "text/plain": [
              "       budget homepage original_language  \\\n",
              "15  225000000      NaN                en   \n",
              "24  207000000      NaN                en   \n",
              "27  209000000      NaN                en   \n",
              "33  210000000      NaN                en   \n",
              "34  200000000      NaN                en   \n",
              "\n",
              "                                       title  popularity release_date  \\\n",
              "15  The Chronicles of Narnia: Prince Caspian   53.978602   2008-05-15   \n",
              "24                                 King Kong   61.226010   2005-12-14   \n",
              "27                                Battleship   64.928382   2012-04-11   \n",
              "33                     X-Men: The Last Stand    3.857526   2006-05-24   \n",
              "34                       Monsters University   89.186492   2013-06-20   \n",
              "\n",
              "      revenue  runtime  \n",
              "15  419651413    150.0  \n",
              "24  550000000    187.0  \n",
              "27  303025485    131.0  \n",
              "33  459359555    104.0  \n",
              "34  743559607    104.0  "
            ]
          },
          "metadata": {
            "tags": []
          },
          "execution_count": 8
        }
      ]
    },
    {
      "metadata": {
        "id": "4f7aEBMMCv1d",
        "colab_type": "code",
        "colab": {
          "base_uri": "https://localhost:8080/",
          "height": 34
        },
        "outputId": "30df9df4-426c-4379-adb5-d51ff6c43603"
      },
      "cell_type": "code",
      "source": [
        "print(len(df_reduced[df['homepage'].isnull()].head()), \"movies don't have a homepage recorded in this database\")"
      ],
      "execution_count": 9,
      "outputs": [
        {
          "output_type": "stream",
          "text": [
            "5 movies don't have a homepage recorded in this database\n"
          ],
          "name": "stdout"
        }
      ]
    },
    {
      "metadata": {
        "id": "aAcOrL0wLaoq",
        "colab_type": "code",
        "colab": {
          "base_uri": "https://localhost:8080/",
          "height": 85
        },
        "outputId": "d27039d6-6e4f-40ad-fc14-8b913bc11f7d"
      },
      "cell_type": "code",
      "source": [
        "# Let's take a look at all of the languages in the dataset\n",
        "\n",
        "df_reduced['original_language'].unique()"
      ],
      "execution_count": 10,
      "outputs": [
        {
          "output_type": "execute_result",
          "data": {
            "text/plain": [
              "array(['en', 'ja', 'fr', 'zh', 'es', 'de', 'hi', 'ru', 'ko', 'te', 'cn',\n",
              "       'it', 'nl', 'ta', 'sv', 'th', 'da', 'xx', 'hu', 'cs', 'pt', 'is',\n",
              "       'tr', 'nb', 'af', 'pl', 'he', 'ar', 'vi', 'ky', 'id', 'ro', 'fa',\n",
              "       'no', 'sl', 'ps', 'el'], dtype=object)"
            ]
          },
          "metadata": {
            "tags": []
          },
          "execution_count": 10
        }
      ]
    },
    {
      "metadata": {
        "id": "Ui1LTrbVLw8C",
        "colab_type": "code",
        "colab": {
          "base_uri": "https://localhost:8080/",
          "height": 680
        },
        "outputId": "5484b905-1577-409d-b44f-d2a198cb258a"
      },
      "cell_type": "code",
      "source": [
        "# We can group the data by language. Here, we see all of the languages and a count of their instances in the dataframe.\n",
        "\n",
        "df_reduced.groupby('original_language')['title'].count().sort_values(ascending=False)"
      ],
      "execution_count": 11,
      "outputs": [
        {
          "output_type": "execute_result",
          "data": {
            "text/plain": [
              "original_language\n",
              "en    4505\n",
              "fr      70\n",
              "es      32\n",
              "zh      27\n",
              "de      27\n",
              "hi      19\n",
              "ja      16\n",
              "it      14\n",
              "cn      12\n",
              "ko      11\n",
              "ru      11\n",
              "pt       9\n",
              "da       7\n",
              "sv       5\n",
              "nl       4\n",
              "fa       4\n",
              "th       3\n",
              "he       3\n",
              "ro       2\n",
              "id       2\n",
              "ta       2\n",
              "cs       2\n",
              "ar       2\n",
              "te       1\n",
              "tr       1\n",
              "vi       1\n",
              "el       1\n",
              "hu       1\n",
              "is       1\n",
              "sl       1\n",
              "xx       1\n",
              "ky       1\n",
              "nb       1\n",
              "no       1\n",
              "pl       1\n",
              "ps       1\n",
              "af       1\n",
              "Name: title, dtype: int64"
            ]
          },
          "metadata": {
            "tags": []
          },
          "execution_count": 11
        }
      ]
    },
    {
      "metadata": {
        "id": "jW13ckooHL6z",
        "colab_type": "code",
        "colab": {
          "base_uri": "https://localhost:8080/",
          "height": 886
        },
        "outputId": "2cbf9532-df9e-410e-e3d5-46a7045b074c"
      },
      "cell_type": "code",
      "source": [
        "# We can get all of the rows for a specific language!\n",
        "\n",
        "df_reduced[df_reduced['original_language'] == 'zh']"
      ],
      "execution_count": 12,
      "outputs": [
        {
          "output_type": "execute_result",
          "data": {
            "text/html": [
              "<div>\n",
              "<style scoped>\n",
              "    .dataframe tbody tr th:only-of-type {\n",
              "        vertical-align: middle;\n",
              "    }\n",
              "\n",
              "    .dataframe tbody tr th {\n",
              "        vertical-align: top;\n",
              "    }\n",
              "\n",
              "    .dataframe thead th {\n",
              "        text-align: right;\n",
              "    }\n",
              "</style>\n",
              "<table border=\"1\" class=\"dataframe\">\n",
              "  <thead>\n",
              "    <tr style=\"text-align: right;\">\n",
              "      <th></th>\n",
              "      <th>budget</th>\n",
              "      <th>homepage</th>\n",
              "      <th>original_language</th>\n",
              "      <th>title</th>\n",
              "      <th>popularity</th>\n",
              "      <th>release_date</th>\n",
              "      <th>revenue</th>\n",
              "      <th>runtime</th>\n",
              "    </tr>\n",
              "  </thead>\n",
              "  <tbody>\n",
              "    <tr>\n",
              "      <th>317</th>\n",
              "      <td>94000000</td>\n",
              "      <td>http://www.theflowersofwarmovie.com/</td>\n",
              "      <td>zh</td>\n",
              "      <td>The Flowers of War</td>\n",
              "      <td>12.516546</td>\n",
              "      <td>2011-12-15</td>\n",
              "      <td>95311434</td>\n",
              "      <td>145.0</td>\n",
              "    </tr>\n",
              "    <tr>\n",
              "      <th>678</th>\n",
              "      <td>65000000</td>\n",
              "      <td>NaN</td>\n",
              "      <td>zh</td>\n",
              "      <td>Dragon Blade</td>\n",
              "      <td>9.568884</td>\n",
              "      <td>2015-02-19</td>\n",
              "      <td>121545703</td>\n",
              "      <td>127.0</td>\n",
              "    </tr>\n",
              "    <tr>\n",
              "      <th>786</th>\n",
              "      <td>68490000</td>\n",
              "      <td>http://themonkeykingmovie.com</td>\n",
              "      <td>zh</td>\n",
              "      <td>The Monkey King 2</td>\n",
              "      <td>4.726290</td>\n",
              "      <td>2016-01-22</td>\n",
              "      <td>193677158</td>\n",
              "      <td>120.0</td>\n",
              "    </tr>\n",
              "    <tr>\n",
              "      <th>1095</th>\n",
              "      <td>110</td>\n",
              "      <td>http://ent.sina.com.cn/hjj/</td>\n",
              "      <td>zh</td>\n",
              "      <td>Curse of the Golden Flower</td>\n",
              "      <td>9.950505</td>\n",
              "      <td>2006-12-21</td>\n",
              "      <td>0</td>\n",
              "      <td>114.0</td>\n",
              "    </tr>\n",
              "    <tr>\n",
              "      <th>1136</th>\n",
              "      <td>31000000</td>\n",
              "      <td>NaN</td>\n",
              "      <td>zh</td>\n",
              "      <td>Hero</td>\n",
              "      <td>23.607392</td>\n",
              "      <td>2002-12-19</td>\n",
              "      <td>177394432</td>\n",
              "      <td>99.0</td>\n",
              "    </tr>\n",
              "    <tr>\n",
              "      <th>1284</th>\n",
              "      <td>40000000</td>\n",
              "      <td>NaN</td>\n",
              "      <td>zh</td>\n",
              "      <td>The Warlords</td>\n",
              "      <td>6.884467</td>\n",
              "      <td>2007-12-12</td>\n",
              "      <td>0</td>\n",
              "      <td>126.0</td>\n",
              "    </tr>\n",
              "    <tr>\n",
              "      <th>1298</th>\n",
              "      <td>80341000</td>\n",
              "      <td>http://www.redclifffilm.com</td>\n",
              "      <td>zh</td>\n",
              "      <td>Red Cliff</td>\n",
              "      <td>14.837500</td>\n",
              "      <td>2008-07-10</td>\n",
              "      <td>127814609</td>\n",
              "      <td>150.0</td>\n",
              "    </tr>\n",
              "    <tr>\n",
              "      <th>1304</th>\n",
              "      <td>3860000</td>\n",
              "      <td>NaN</td>\n",
              "      <td>zh</td>\n",
              "      <td>The Grandmaster</td>\n",
              "      <td>19.947265</td>\n",
              "      <td>2013-01-08</td>\n",
              "      <td>64076736</td>\n",
              "      <td>130.0</td>\n",
              "    </tr>\n",
              "    <tr>\n",
              "      <th>1306</th>\n",
              "      <td>40000000</td>\n",
              "      <td>NaN</td>\n",
              "      <td>zh</td>\n",
              "      <td>Dragon Nest: Warriors' Dawn</td>\n",
              "      <td>5.057695</td>\n",
              "      <td>2014-05-20</td>\n",
              "      <td>0</td>\n",
              "      <td>88.0</td>\n",
              "    </tr>\n",
              "    <tr>\n",
              "      <th>1669</th>\n",
              "      <td>0</td>\n",
              "      <td>http://thepromisemovie.net</td>\n",
              "      <td>zh</td>\n",
              "      <td>The Promise</td>\n",
              "      <td>3.866026</td>\n",
              "      <td>2005-12-15</td>\n",
              "      <td>0</td>\n",
              "      <td>98.0</td>\n",
              "    </tr>\n",
              "    <tr>\n",
              "      <th>1672</th>\n",
              "      <td>30000000</td>\n",
              "      <td>http://www.1911movie.com/</td>\n",
              "      <td>zh</td>\n",
              "      <td>1911</td>\n",
              "      <td>4.065212</td>\n",
              "      <td>2011-07-03</td>\n",
              "      <td>108348</td>\n",
              "      <td>125.0</td>\n",
              "    </tr>\n",
              "    <tr>\n",
              "      <th>2254</th>\n",
              "      <td>40000000</td>\n",
              "      <td>http://www.childrenofhuangshi.com/</td>\n",
              "      <td>zh</td>\n",
              "      <td>The Children of Huang Shi</td>\n",
              "      <td>8.978408</td>\n",
              "      <td>2008-07-03</td>\n",
              "      <td>7400000</td>\n",
              "      <td>125.0</td>\n",
              "    </tr>\n",
              "    <tr>\n",
              "      <th>2295</th>\n",
              "      <td>0</td>\n",
              "      <td>NaN</td>\n",
              "      <td>zh</td>\n",
              "      <td>Firestorm</td>\n",
              "      <td>3.376967</td>\n",
              "      <td>2013-12-12</td>\n",
              "      <td>0</td>\n",
              "      <td>110.0</td>\n",
              "    </tr>\n",
              "    <tr>\n",
              "      <th>2515</th>\n",
              "      <td>17000000</td>\n",
              "      <td>NaN</td>\n",
              "      <td>zh</td>\n",
              "      <td>Crouching Tiger, Hidden Dragon</td>\n",
              "      <td>45.742254</td>\n",
              "      <td>2000-10-01</td>\n",
              "      <td>213525736</td>\n",
              "      <td>120.0</td>\n",
              "    </tr>\n",
              "    <tr>\n",
              "      <th>2641</th>\n",
              "      <td>15000000</td>\n",
              "      <td>NaN</td>\n",
              "      <td>zh</td>\n",
              "      <td>The Assassin</td>\n",
              "      <td>8.142166</td>\n",
              "      <td>2015-08-27</td>\n",
              "      <td>632542</td>\n",
              "      <td>105.0</td>\n",
              "    </tr>\n",
              "    <tr>\n",
              "      <th>2657</th>\n",
              "      <td>15000000</td>\n",
              "      <td>http://shinjukuincident.emp.hk/</td>\n",
              "      <td>zh</td>\n",
              "      <td>Shinjuku Incident</td>\n",
              "      <td>5.294319</td>\n",
              "      <td>2009-03-22</td>\n",
              "      <td>0</td>\n",
              "      <td>119.0</td>\n",
              "    </tr>\n",
              "    <tr>\n",
              "      <th>2712</th>\n",
              "      <td>12000000</td>\n",
              "      <td>http://jianyu.ent.sina.com.cn/</td>\n",
              "      <td>zh</td>\n",
              "      <td>Reign of Assassins</td>\n",
              "      <td>4.930129</td>\n",
              "      <td>2010-09-01</td>\n",
              "      <td>0</td>\n",
              "      <td>117.0</td>\n",
              "    </tr>\n",
              "    <tr>\n",
              "      <th>2863</th>\n",
              "      <td>0</td>\n",
              "      <td>NaN</td>\n",
              "      <td>zh</td>\n",
              "      <td>House of Flying Daggers</td>\n",
              "      <td>21.064082</td>\n",
              "      <td>2004-05-19</td>\n",
              "      <td>92863945</td>\n",
              "      <td>119.0</td>\n",
              "    </tr>\n",
              "    <tr>\n",
              "      <th>2884</th>\n",
              "      <td>12000000</td>\n",
              "      <td>http://www.wkw2046.com/</td>\n",
              "      <td>zh</td>\n",
              "      <td>2046</td>\n",
              "      <td>12.664787</td>\n",
              "      <td>2004-05-20</td>\n",
              "      <td>19271312</td>\n",
              "      <td>129.0</td>\n",
              "    </tr>\n",
              "    <tr>\n",
              "      <th>2896</th>\n",
              "      <td>0</td>\n",
              "      <td>NaN</td>\n",
              "      <td>zh</td>\n",
              "      <td>A Woman, a Gun and a Noodle Shop</td>\n",
              "      <td>1.416796</td>\n",
              "      <td>2009-12-11</td>\n",
              "      <td>0</td>\n",
              "      <td>95.0</td>\n",
              "    </tr>\n",
              "    <tr>\n",
              "      <th>2898</th>\n",
              "      <td>12000000</td>\n",
              "      <td>http://www.cityoflifeanddeath.co.uk/</td>\n",
              "      <td>zh</td>\n",
              "      <td>City of Life and Death</td>\n",
              "      <td>4.793348</td>\n",
              "      <td>2009-04-22</td>\n",
              "      <td>10652498</td>\n",
              "      <td>132.0</td>\n",
              "    </tr>\n",
              "    <tr>\n",
              "      <th>2899</th>\n",
              "      <td>19000000</td>\n",
              "      <td>NaN</td>\n",
              "      <td>zh</td>\n",
              "      <td>Legend of a Rabbit</td>\n",
              "      <td>0.738652</td>\n",
              "      <td>2011-01-01</td>\n",
              "      <td>2570000</td>\n",
              "      <td>89.0</td>\n",
              "    </tr>\n",
              "    <tr>\n",
              "      <th>2910</th>\n",
              "      <td>0</td>\n",
              "      <td>NaN</td>\n",
              "      <td>zh</td>\n",
              "      <td>A Tale of Three Cities</td>\n",
              "      <td>0.753362</td>\n",
              "      <td>2015-08-28</td>\n",
              "      <td>0</td>\n",
              "      <td>130.0</td>\n",
              "    </tr>\n",
              "    <tr>\n",
              "      <th>3300</th>\n",
              "      <td>0</td>\n",
              "      <td>NaN</td>\n",
              "      <td>zh</td>\n",
              "      <td>My Lucky Star</td>\n",
              "      <td>1.864530</td>\n",
              "      <td>2013-09-17</td>\n",
              "      <td>0</td>\n",
              "      <td>114.0</td>\n",
              "    </tr>\n",
              "    <tr>\n",
              "      <th>3892</th>\n",
              "      <td>0</td>\n",
              "      <td>NaN</td>\n",
              "      <td>zh</td>\n",
              "      <td>Coming Home</td>\n",
              "      <td>6.017273</td>\n",
              "      <td>2014-05-16</td>\n",
              "      <td>0</td>\n",
              "      <td>111.0</td>\n",
              "    </tr>\n",
              "    <tr>\n",
              "      <th>4004</th>\n",
              "      <td>0</td>\n",
              "      <td>NaN</td>\n",
              "      <td>zh</td>\n",
              "      <td>Silver Medalist</td>\n",
              "      <td>0.406645</td>\n",
              "      <td>2009-01-20</td>\n",
              "      <td>0</td>\n",
              "      <td>99.0</td>\n",
              "    </tr>\n",
              "    <tr>\n",
              "      <th>4546</th>\n",
              "      <td>0</td>\n",
              "      <td>NaN</td>\n",
              "      <td>zh</td>\n",
              "      <td>Crazy Stone</td>\n",
              "      <td>1.685020</td>\n",
              "      <td>2006-01-01</td>\n",
              "      <td>0</td>\n",
              "      <td>98.0</td>\n",
              "    </tr>\n",
              "  </tbody>\n",
              "</table>\n",
              "</div>"
            ],
            "text/plain": [
              "        budget                              homepage original_language  \\\n",
              "317   94000000  http://www.theflowersofwarmovie.com/                zh   \n",
              "678   65000000                                   NaN                zh   \n",
              "786   68490000         http://themonkeykingmovie.com                zh   \n",
              "1095       110           http://ent.sina.com.cn/hjj/                zh   \n",
              "1136  31000000                                   NaN                zh   \n",
              "1284  40000000                                   NaN                zh   \n",
              "1298  80341000           http://www.redclifffilm.com                zh   \n",
              "1304   3860000                                   NaN                zh   \n",
              "1306  40000000                                   NaN                zh   \n",
              "1669         0            http://thepromisemovie.net                zh   \n",
              "1672  30000000             http://www.1911movie.com/                zh   \n",
              "2254  40000000    http://www.childrenofhuangshi.com/                zh   \n",
              "2295         0                                   NaN                zh   \n",
              "2515  17000000                                   NaN                zh   \n",
              "2641  15000000                                   NaN                zh   \n",
              "2657  15000000       http://shinjukuincident.emp.hk/                zh   \n",
              "2712  12000000        http://jianyu.ent.sina.com.cn/                zh   \n",
              "2863         0                                   NaN                zh   \n",
              "2884  12000000               http://www.wkw2046.com/                zh   \n",
              "2896         0                                   NaN                zh   \n",
              "2898  12000000  http://www.cityoflifeanddeath.co.uk/                zh   \n",
              "2899  19000000                                   NaN                zh   \n",
              "2910         0                                   NaN                zh   \n",
              "3300         0                                   NaN                zh   \n",
              "3892         0                                   NaN                zh   \n",
              "4004         0                                   NaN                zh   \n",
              "4546         0                                   NaN                zh   \n",
              "\n",
              "                                 title  popularity release_date    revenue  \\\n",
              "317                 The Flowers of War   12.516546   2011-12-15   95311434   \n",
              "678                       Dragon Blade    9.568884   2015-02-19  121545703   \n",
              "786                  The Monkey King 2    4.726290   2016-01-22  193677158   \n",
              "1095        Curse of the Golden Flower    9.950505   2006-12-21          0   \n",
              "1136                              Hero   23.607392   2002-12-19  177394432   \n",
              "1284                      The Warlords    6.884467   2007-12-12          0   \n",
              "1298                         Red Cliff   14.837500   2008-07-10  127814609   \n",
              "1304                   The Grandmaster   19.947265   2013-01-08   64076736   \n",
              "1306       Dragon Nest: Warriors' Dawn    5.057695   2014-05-20          0   \n",
              "1669                       The Promise    3.866026   2005-12-15          0   \n",
              "1672                              1911    4.065212   2011-07-03     108348   \n",
              "2254         The Children of Huang Shi    8.978408   2008-07-03    7400000   \n",
              "2295                         Firestorm    3.376967   2013-12-12          0   \n",
              "2515    Crouching Tiger, Hidden Dragon   45.742254   2000-10-01  213525736   \n",
              "2641                      The Assassin    8.142166   2015-08-27     632542   \n",
              "2657                 Shinjuku Incident    5.294319   2009-03-22          0   \n",
              "2712                Reign of Assassins    4.930129   2010-09-01          0   \n",
              "2863           House of Flying Daggers   21.064082   2004-05-19   92863945   \n",
              "2884                              2046   12.664787   2004-05-20   19271312   \n",
              "2896  A Woman, a Gun and a Noodle Shop    1.416796   2009-12-11          0   \n",
              "2898            City of Life and Death    4.793348   2009-04-22   10652498   \n",
              "2899                Legend of a Rabbit    0.738652   2011-01-01    2570000   \n",
              "2910            A Tale of Three Cities    0.753362   2015-08-28          0   \n",
              "3300                     My Lucky Star    1.864530   2013-09-17          0   \n",
              "3892                       Coming Home    6.017273   2014-05-16          0   \n",
              "4004                   Silver Medalist    0.406645   2009-01-20          0   \n",
              "4546                       Crazy Stone    1.685020   2006-01-01          0   \n",
              "\n",
              "      runtime  \n",
              "317     145.0  \n",
              "678     127.0  \n",
              "786     120.0  \n",
              "1095    114.0  \n",
              "1136     99.0  \n",
              "1284    126.0  \n",
              "1298    150.0  \n",
              "1304    130.0  \n",
              "1306     88.0  \n",
              "1669     98.0  \n",
              "1672    125.0  \n",
              "2254    125.0  \n",
              "2295    110.0  \n",
              "2515    120.0  \n",
              "2641    105.0  \n",
              "2657    119.0  \n",
              "2712    117.0  \n",
              "2863    119.0  \n",
              "2884    129.0  \n",
              "2896     95.0  \n",
              "2898    132.0  \n",
              "2899     89.0  \n",
              "2910    130.0  \n",
              "3300    114.0  \n",
              "3892    111.0  \n",
              "4004     99.0  \n",
              "4546     98.0  "
            ]
          },
          "metadata": {
            "tags": []
          },
          "execution_count": 12
        }
      ]
    },
    {
      "metadata": {
        "id": "T4LEfXWjDikH",
        "colab_type": "text"
      },
      "cell_type": "markdown",
      "source": [
        "### Adding data"
      ]
    },
    {
      "metadata": {
        "id": "J8NjvmjaHrrb",
        "colab_type": "code",
        "colab": {
          "base_uri": "https://localhost:8080/",
          "height": 306
        },
        "outputId": "9e861386-7375-446e-ea85-fc2fc7c4cec1"
      },
      "cell_type": "code",
      "source": [
        "# Let's add a new column to identify movies we like. \n",
        "\n",
        "df_reduced['i_like'] = None\n",
        "df_reduced.head()"
      ],
      "execution_count": 13,
      "outputs": [
        {
          "output_type": "stream",
          "text": [
            "/usr/local/lib/python3.6/dist-packages/ipykernel_launcher.py:2: SettingWithCopyWarning: \n",
            "A value is trying to be set on a copy of a slice from a DataFrame.\n",
            "Try using .loc[row_indexer,col_indexer] = value instead\n",
            "\n",
            "See the caveats in the documentation: http://pandas.pydata.org/pandas-docs/stable/indexing.html#indexing-view-versus-copy\n",
            "  \n"
          ],
          "name": "stderr"
        },
        {
          "output_type": "execute_result",
          "data": {
            "text/html": [
              "<div>\n",
              "<style scoped>\n",
              "    .dataframe tbody tr th:only-of-type {\n",
              "        vertical-align: middle;\n",
              "    }\n",
              "\n",
              "    .dataframe tbody tr th {\n",
              "        vertical-align: top;\n",
              "    }\n",
              "\n",
              "    .dataframe thead th {\n",
              "        text-align: right;\n",
              "    }\n",
              "</style>\n",
              "<table border=\"1\" class=\"dataframe\">\n",
              "  <thead>\n",
              "    <tr style=\"text-align: right;\">\n",
              "      <th></th>\n",
              "      <th>budget</th>\n",
              "      <th>homepage</th>\n",
              "      <th>original_language</th>\n",
              "      <th>title</th>\n",
              "      <th>popularity</th>\n",
              "      <th>release_date</th>\n",
              "      <th>revenue</th>\n",
              "      <th>runtime</th>\n",
              "      <th>i_like</th>\n",
              "    </tr>\n",
              "  </thead>\n",
              "  <tbody>\n",
              "    <tr>\n",
              "      <th>0</th>\n",
              "      <td>237000000</td>\n",
              "      <td>http://www.avatarmovie.com/</td>\n",
              "      <td>en</td>\n",
              "      <td>Avatar</td>\n",
              "      <td>150.437577</td>\n",
              "      <td>2009-12-10</td>\n",
              "      <td>2787965087</td>\n",
              "      <td>162.0</td>\n",
              "      <td>None</td>\n",
              "    </tr>\n",
              "    <tr>\n",
              "      <th>1</th>\n",
              "      <td>300000000</td>\n",
              "      <td>http://disney.go.com/disneypictures/pirates/</td>\n",
              "      <td>en</td>\n",
              "      <td>Pirates of the Caribbean: At World's End</td>\n",
              "      <td>139.082615</td>\n",
              "      <td>2007-05-19</td>\n",
              "      <td>961000000</td>\n",
              "      <td>169.0</td>\n",
              "      <td>None</td>\n",
              "    </tr>\n",
              "    <tr>\n",
              "      <th>2</th>\n",
              "      <td>245000000</td>\n",
              "      <td>http://www.sonypictures.com/movies/spectre/</td>\n",
              "      <td>en</td>\n",
              "      <td>Spectre</td>\n",
              "      <td>107.376788</td>\n",
              "      <td>2015-10-26</td>\n",
              "      <td>880674609</td>\n",
              "      <td>148.0</td>\n",
              "      <td>None</td>\n",
              "    </tr>\n",
              "    <tr>\n",
              "      <th>3</th>\n",
              "      <td>250000000</td>\n",
              "      <td>http://www.thedarkknightrises.com/</td>\n",
              "      <td>en</td>\n",
              "      <td>The Dark Knight Rises</td>\n",
              "      <td>112.312950</td>\n",
              "      <td>2012-07-16</td>\n",
              "      <td>1084939099</td>\n",
              "      <td>165.0</td>\n",
              "      <td>None</td>\n",
              "    </tr>\n",
              "    <tr>\n",
              "      <th>4</th>\n",
              "      <td>260000000</td>\n",
              "      <td>http://movies.disney.com/john-carter</td>\n",
              "      <td>en</td>\n",
              "      <td>John Carter</td>\n",
              "      <td>43.926995</td>\n",
              "      <td>2012-03-07</td>\n",
              "      <td>284139100</td>\n",
              "      <td>132.0</td>\n",
              "      <td>None</td>\n",
              "    </tr>\n",
              "  </tbody>\n",
              "</table>\n",
              "</div>"
            ],
            "text/plain": [
              "      budget                                      homepage original_language  \\\n",
              "0  237000000                   http://www.avatarmovie.com/                en   \n",
              "1  300000000  http://disney.go.com/disneypictures/pirates/                en   \n",
              "2  245000000   http://www.sonypictures.com/movies/spectre/                en   \n",
              "3  250000000            http://www.thedarkknightrises.com/                en   \n",
              "4  260000000          http://movies.disney.com/john-carter                en   \n",
              "\n",
              "                                      title  popularity release_date  \\\n",
              "0                                    Avatar  150.437577   2009-12-10   \n",
              "1  Pirates of the Caribbean: At World's End  139.082615   2007-05-19   \n",
              "2                                   Spectre  107.376788   2015-10-26   \n",
              "3                     The Dark Knight Rises  112.312950   2012-07-16   \n",
              "4                               John Carter   43.926995   2012-03-07   \n",
              "\n",
              "      revenue  runtime i_like  \n",
              "0  2787965087    162.0   None  \n",
              "1   961000000    169.0   None  \n",
              "2   880674609    148.0   None  \n",
              "3  1084939099    165.0   None  \n",
              "4   284139100    132.0   None  "
            ]
          },
          "metadata": {
            "tags": []
          },
          "execution_count": 13
        }
      ]
    },
    {
      "metadata": {
        "id": "70mfCEL8IPku",
        "colab_type": "code",
        "colab": {
          "base_uri": "https://localhost:8080/",
          "height": 119
        },
        "outputId": "b012de97-408b-4640-8b07-22029f5d2ea6"
      },
      "cell_type": "code",
      "source": [
        "# Update the column for a movie you like! \n",
        "\n",
        "df_reduced.loc[df_reduced['title'] == 'Interstellar', ['i_like']] = True"
      ],
      "execution_count": 14,
      "outputs": [
        {
          "output_type": "stream",
          "text": [
            "/usr/local/lib/python3.6/dist-packages/pandas/core/indexing.py:537: SettingWithCopyWarning: \n",
            "A value is trying to be set on a copy of a slice from a DataFrame.\n",
            "Try using .loc[row_indexer,col_indexer] = value instead\n",
            "\n",
            "See the caveats in the documentation: http://pandas.pydata.org/pandas-docs/stable/indexing.html#indexing-view-versus-copy\n",
            "  self.obj[item] = s\n"
          ],
          "name": "stderr"
        }
      ]
    },
    {
      "metadata": {
        "id": "FvJjo8-DKDeY",
        "colab_type": "code",
        "colab": {
          "base_uri": "https://localhost:8080/",
          "height": 80
        },
        "outputId": "5c11c5f3-5449-4e89-d6c3-5db9c3ea4363"
      },
      "cell_type": "code",
      "source": [
        "df_reduced[df_reduced['title'] == 'Interstellar']"
      ],
      "execution_count": 15,
      "outputs": [
        {
          "output_type": "execute_result",
          "data": {
            "text/html": [
              "<div>\n",
              "<style scoped>\n",
              "    .dataframe tbody tr th:only-of-type {\n",
              "        vertical-align: middle;\n",
              "    }\n",
              "\n",
              "    .dataframe tbody tr th {\n",
              "        vertical-align: top;\n",
              "    }\n",
              "\n",
              "    .dataframe thead th {\n",
              "        text-align: right;\n",
              "    }\n",
              "</style>\n",
              "<table border=\"1\" class=\"dataframe\">\n",
              "  <thead>\n",
              "    <tr style=\"text-align: right;\">\n",
              "      <th></th>\n",
              "      <th>budget</th>\n",
              "      <th>homepage</th>\n",
              "      <th>original_language</th>\n",
              "      <th>title</th>\n",
              "      <th>popularity</th>\n",
              "      <th>release_date</th>\n",
              "      <th>revenue</th>\n",
              "      <th>runtime</th>\n",
              "      <th>i_like</th>\n",
              "    </tr>\n",
              "  </thead>\n",
              "  <tbody>\n",
              "    <tr>\n",
              "      <th>95</th>\n",
              "      <td>165000000</td>\n",
              "      <td>http://www.interstellarmovie.net/</td>\n",
              "      <td>en</td>\n",
              "      <td>Interstellar</td>\n",
              "      <td>724.247784</td>\n",
              "      <td>2014-11-05</td>\n",
              "      <td>675120017</td>\n",
              "      <td>169.0</td>\n",
              "      <td>True</td>\n",
              "    </tr>\n",
              "  </tbody>\n",
              "</table>\n",
              "</div>"
            ],
            "text/plain": [
              "       budget                           homepage original_language  \\\n",
              "95  165000000  http://www.interstellarmovie.net/                en   \n",
              "\n",
              "           title  popularity release_date    revenue  runtime i_like  \n",
              "95  Interstellar  724.247784   2014-11-05  675120017    169.0   True  "
            ]
          },
          "metadata": {
            "tags": []
          },
          "execution_count": 15
        }
      ]
    },
    {
      "metadata": {
        "id": "3mZgN5vADrzz",
        "colab_type": "text"
      },
      "cell_type": "markdown",
      "source": [
        "## Graphing Data"
      ]
    },
    {
      "metadata": {
        "id": "6W7EYK_HPANo",
        "colab_type": "code",
        "colab": {
          "base_uri": "https://localhost:8080/",
          "height": 389
        },
        "outputId": "e4973cda-07ab-4f66-a8d1-d7f225054260"
      },
      "cell_type": "code",
      "source": [
        "# Let's take a look at the relationship between a movie's budget and its revenue. \n",
        "\n",
        "df_reduced.plot.scatter(x='budget', y='revenue')"
      ],
      "execution_count": 16,
      "outputs": [
        {
          "output_type": "execute_result",
          "data": {
            "text/plain": [
              "<matplotlib.axes._subplots.AxesSubplot at 0x7f1545ad2ba8>"
            ]
          },
          "metadata": {
            "tags": []
          },
          "execution_count": 16
        },
        {
          "output_type": "display_data",
          "data": {
            "image/png": "[encoded data removed]",
            "text/plain": [
              "<matplotlib.figure.Figure at 0x7f1544f65320>"
            ]
          },
          "metadata": {
            "tags": []
          }
        }
      ]
    },
    {
      "metadata": {
        "id": "QCiCsVUfQtpp",
        "colab_type": "code",
        "colab": {
          "base_uri": "https://localhost:8080/",
          "height": 725
        },
        "outputId": "21fe351a-06b0-4ae8-aa16-bf8f30b05ffc"
      },
      "cell_type": "code",
      "source": [
        "# This just adds labels to some of the points \n",
        "\n",
        "ax = df.set_index('budget')['revenue'].plot(style='o', figsize=(12,12))\n",
        "\n",
        "def label_point(x, y, val, ax):\n",
        "    a = pd.concat({'x': x, 'y': y, 'val': val}, axis=1)\n",
        "    for i, point in a.iterrows():\n",
        "      if(point['x'] > 200000000 or point['y'] > 1000000000):\n",
        "        ax.text(point['x'], point['y'], str(point['val']))      \n",
        "     \n",
        "        \n",
        "label_point(df.budget, df.revenue, df.title, ax)\n"
      ],
      "execution_count": 17,
      "outputs": [
        {
          "output_type": "display_data",
          "data": {
            "image/png": "[encoded data removed]",
            "text/plain": [
              "<matplotlib.figure.Figure at 0x7f1544f61550>"
            ]
          },
          "metadata": {
            "tags": []
          }
        }
      ]
    },
    {
      "metadata": {
        "id": "7jAcfF_aQubC",
        "colab_type": "code",
        "colab": {
          "base_uri": "https://localhost:8080/",
          "height": 364
        },
        "outputId": "50d178b3-0127-4766-fe3f-eea61ca8324b"
      },
      "cell_type": "code",
      "source": [
        "# Now let's see how long movies tend to be\n",
        "df_reduced['runtime'].hist(bins=20)"
      ],
      "execution_count": 18,
      "outputs": [
        {
          "output_type": "execute_result",
          "data": {
            "text/plain": [
              "<matplotlib.axes._subplots.AxesSubplot at 0x7f154268f8d0>"
            ]
          },
          "metadata": {
            "tags": []
          },
          "execution_count": 18
        },
        {
          "output_type": "display_data",
          "data": {
            "image/png": "[encoded data removed]",
            "text/plain": [
              "<matplotlib.figure.Figure at 0x7f15426a7908>"
            ]
          },
          "metadata": {
            "tags": []
          }
        }
      ]
    },
    {
      "metadata": {
        "id": "Ecaf5HBKQo2Y",
        "colab_type": "code",
        "colab": {
          "base_uri": "https://localhost:8080/",
          "height": 389
        },
        "outputId": "4d459301-cf1e-43d1-b3e4-0177108acf71"
      },
      "cell_type": "code",
      "source": [
        "# So how long should your movie be if you want to make the most money?\n",
        "df_reduced.plot.scatter(x='runtime', y='revenue')"
      ],
      "execution_count": 19,
      "outputs": [
        {
          "output_type": "execute_result",
          "data": {
            "text/plain": [
              "<matplotlib.axes._subplots.AxesSubplot at 0x7f154258b6a0>"
            ]
          },
          "metadata": {
            "tags": []
          },
          "execution_count": 19
        },
        {
          "output_type": "display_data",
          "data": {
            "image/png": "[encoded data removed]",
            "text/plain": [
              "<matplotlib.figure.Figure at 0x7f15425a9080>"
            ]
          },
          "metadata": {
            "tags": []
          }
        }
      ]
    },
    {
      "metadata": {
        "id": "It6MyO7ERpM0",
        "colab_type": "code",
        "colab": {
          "base_uri": "https://localhost:8080/",
          "height": 390
        },
        "outputId": "0bf569ee-4cf4-4c5e-ce24-884fa78b0eb5"
      },
      "cell_type": "code",
      "source": [
        "# Which language should your movie be in to make the most money? (it's not English)\n",
        "\n",
        "\n",
        "df_reduced.groupby('original_language')['original_language', 'revenue'].mean().plot.bar()"
      ],
      "execution_count": 20,
      "outputs": [
        {
          "output_type": "execute_result",
          "data": {
            "text/plain": [
              "<matplotlib.axes._subplots.AxesSubplot at 0x7f1540d18080>"
            ]
          },
          "metadata": {
            "tags": []
          },
          "execution_count": 20
        },
        {
          "output_type": "display_data",
          "data": {
            "image/png": "[encoded data removed]",
            "text/plain": [
              "<matplotlib.figure.Figure at 0x7f1540d59400>"
            ]
          },
          "metadata": {
            "tags": []
          }
        }
      ]
    },
    {
      "metadata": {
        "id": "A-fB1gA0W-xD",
        "colab_type": "code",
        "colab": {}
      },
      "cell_type": "code",
      "source": [
        ""
      ],
      "execution_count": 0,
      "outputs": []
    }
  ]
}